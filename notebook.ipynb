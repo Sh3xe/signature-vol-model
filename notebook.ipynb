{
 "cells": [
  {
   "cell_type": "code",
   "execution_count": 76,
   "id": "445b5e73",
   "metadata": {},
   "outputs": [],
   "source": [
    "import numpy as np\n",
    "import numpy.random as npr\n",
    "import matplotlib.pyplot as plt"
   ]
  },
  {
   "cell_type": "code",
   "execution_count": 77,
   "id": "72b6516b",
   "metadata": {},
   "outputs": [],
   "source": [
    "def make_canonical_element(indices: list[int], n: int) -> np.array:\n",
    "\t\"\"\" \n",
    "\t\tConstruct the element of the canonical basis for a tensor of order len(indices), in dimension n. \n",
    "\t\tindices are the indices of the canonical element\n",
    "\t\"\"\"\n",
    "\tx = np.zeros([n for _ in range(len(indices))])\n",
    "\tx[tuple(indices)] =1\n",
    "\treturn x"
   ]
  },
  {
   "cell_type": "code",
   "execution_count": 78,
   "id": "ab9df12a",
   "metadata": {},
   "outputs": [],
   "source": [
    "def shuffle_product(left: list[int], right: list[int], n: int) -> list[np.array]:\n",
    "\t\"\"\"\n",
    "\t\tPerform the shuffle product between two signature basis\n",
    "\n",
    "\t\tleft, right: \"word\", i.e. any element of the canonical basis of any tensor of any order, with dimension equal to n.\n",
    "\t\tn: dimension of the tensors\n",
    "\t\"\"\"\n",
    "\t\n",
    "\tif len(left) == 0:\n",
    "\t\treturn make_canonical_element(right, n)\n",
    "\telif len(right) == 0:\n",
    "\t\treturn make_canonical_element(left, n)\n",
    "\t\n",
    "\t(begin_left, last_left) = left[:-1], left[-1]\n",
    "\t(begin_right, last_right) = right[:-1], right[-1]\n",
    "\n",
    "\tsub_left = shuffle_product(begin_left, right, n)\n",
    "\tsub_right = shuffle_product(left, begin_right, n)\n",
    "\n",
    "\treturn (\n",
    "\t\tnp.tensordot(sub_left, make_canonical_element([last_left], n), axes=0) +\n",
    "\t\tnp.tensordot(sub_right, make_canonical_element([last_right], n), axes=0)\n",
    "\t)"
   ]
  },
  {
   "cell_type": "code",
   "execution_count": 79,
   "id": "51d84ed9",
   "metadata": {},
   "outputs": [],
   "source": [
    "def decompose_shuffle_result(shuffle_result: np.array) -> list[tuple[int]]:\n",
    "\t\"\"\"\n",
    "\t\tGiven the result of some shuffle product, return the indices of the individual basis element that composes it\n",
    "\t\"\"\"\n",
    "\treturn list(filter(\n",
    "\t\tlambda x: abs(shuffle_result[x] - 1) < 1e-6,\n",
    "\t\tnp.ndindex(shuffle_result.shape)\n",
    "\t))"
   ]
  },
  {
   "cell_type": "code",
   "execution_count": 80,
   "id": "b2db5d6e",
   "metadata": {},
   "outputs": [],
   "source": [
    "def generate_brownian(t0, t1, n_divs, n_curves):\n",
    "\treturn np.cumsum(np.concatenate(\n",
    "\t\t(np.zeros((n_curves, 1)), np.sqrt( (t1-t0) / n_divs) * npr.normal(0, 1, (n_curves, n_divs)) ),\n",
    "\t\taxis=1\n",
    "\t), axis=1)"
   ]
  },
  {
   "cell_type": "code",
   "execution_count": 81,
   "id": "cf7e7f0b",
   "metadata": {},
   "outputs": [],
   "source": [
    "def generate_ornstein_uhlenbeck(t0, t1, brownian_noises, x0, kappa, etha, theta):\n",
    "\t(n_curves, n_divs) = brownian_noises.shape\n",
    "\tbrownian_diffs = (brownian_noises[:,1:] - brownian_noises[:,:-1])\n",
    "\tprocess = np.zeros( (n_curves, n_divs) )\n",
    "\tdt = (t1-t0)/(n_divs-1)\n",
    "\tprocess[:, 0] = x0\n",
    "\tfor i in range(1, process.shape[1]):\n",
    "\t\tprocess[:, i] = process[:, i-1] + kappa * (theta - process[:, i-1]) * dt + etha*brownian_diffs[:, i-1]\n",
    "\n",
    "\treturn process"
   ]
  },
  {
   "cell_type": "code",
   "execution_count": 82,
   "id": "37e0c1e0",
   "metadata": {},
   "outputs": [],
   "source": [
    "def signature( x: np.ndarray, trunc: int ):\n",
    "\t\"\"\" \n",
    "\t\tCompute the truncated signature of x, where x is a sample of some stochastic process\n",
    "\t\ttrunc is the maximum tensor order of the signature\n",
    "\t\"\"\"\n",
    "\n",
    "\tassert trunc >= 0, \"trunc is the maximum tensor order, it cannot be negative\"\n",
    "\n",
    "\tn_divs, dim = x.shape[1], x.shape[0]\n",
    "\tsig = [np.ones(n_divs), x]\n",
    "\n",
    "\tif trunc <= 2:\n",
    "\t\treturn sig[:trunc+1]\n",
    "\n",
    "\t# Compute the next signature recursively\n",
    "\tfor n in range(2, trunc+1):\n",
    "\t\t# numpy shape corresponding to the nth tensor of the signature\n",
    "\t\tshape_n = tuple([dim for _ in range(n)])\n",
    "\t\tsig_n = np.zeros( shape=shape_n+(n_divs,) )\n",
    "\t\tfor index in np.ndindex(shape_n):\n",
    "\t\t\tintegrals = np.zeros(n_divs)\n",
    "\t\t\tfor i in range(n_divs-1):\n",
    "\t\t\t\t# Compute a stratonovich stochastic integral (taking the average instead of the left value)\n",
    "\t\t\t\tmean_val = (sig[n-1][(index[:-1] + (i,))] + sig[n-1][(index[:-1] + (i+1,))]) / 2\n",
    "\t\t\t\tintegrals[i+1] = mean_val * (x[index[-1], i+1] - x[index[-1], i])\n",
    "\t\t\tsig_n[index] = integrals.cumsum()\n",
    "\t\tsig.append(sig_n)\n",
    "\treturn sig"
   ]
  },
  {
   "cell_type": "code",
   "execution_count": 83,
   "id": "7ac2c574",
   "metadata": {},
   "outputs": [],
   "source": [
    "def signature_add(sig_left, sig_right):\n",
    "\tadded_sigs = []\n",
    "\tfor i in range(max(len(sig_left), len(sig_right))):\n",
    "\t\tif i >= len(sig_left):\n",
    "\t\t\tadded_sigs.append( sig_right[i] )\n",
    "\t\telif i >= len(sig_right):\n",
    "\t\t\tadded_sigs.append( sig_left[i] )\n",
    "\t\telse:\n",
    "\t\t\tadded_sigs.append( sig_left[i] + sig_right[i] )\n",
    "\treturn added_sigs"
   ]
  },
  {
   "cell_type": "code",
   "execution_count": 117,
   "id": "9896ed6a",
   "metadata": {},
   "outputs": [],
   "source": [
    "def signature_prod(sig_left, sig_right):\n",
    "\tassert len(sig_left) >= 1 and len(sig_right) >= 1\n",
    "\tdim = sig_left[1].size\n",
    "\tsig_prod = [ np.zeros(tuple([dim for _ in range(n)])) for n in range(len(sig_left) + len(sig_right)) ]\n",
    "\tfor i in range(len(sig_left)):\n",
    "\t\tfor j in range(len(sig_right)):\n",
    "\t\t\tsig_prod[i+j] += np.tensordot(sig_left[i], sig_right[j], axes=0)\n",
    "\treturn sig_prod"
   ]
  },
  {
   "cell_type": "code",
   "execution_count": 131,
   "id": "4f6e515b",
   "metadata": {},
   "outputs": [],
   "source": [
    "def compute_orstein_uhlenbeck_signature(x0, kappa, etha, theta):\n",
    "\tleft = [ np.array(x0),np.array([kappa*theta, etha]) ]\n",
    "\tright = [ np.array(0.0), np.array([np.exp(-kappa), 0.0]) ]\n",
    "\treturn signature_prod(left, right)"
   ]
  },
  {
   "cell_type": "code",
   "execution_count": 130,
   "id": "47435cf7",
   "metadata": {},
   "outputs": [],
   "source": [
    "def bracket(sig_left, sig_right):\n",
    "\tbracket_sum = 0.0\n",
    "\tfor i in range(min(len(sig_left), len(sig_right))):\n",
    "\t\tbracket_sum += (sig_left[i] * sig_right[i]).sum()\n",
    "\treturn bracket_sum"
   ]
  },
  {
   "cell_type": "code",
   "execution_count": 137,
   "id": "df6c5328",
   "metadata": {},
   "outputs": [],
   "source": [
    "def bracket_with_process(cst_sig, process_sig):\n",
    "\tbracket_sum = np.zeros(process_sig[0].shape)\n",
    "\tfor i in range(min(len(cst_sig), len(process_sig))):\n",
    "\t\tfor index in np.ndindex(cst_sig[i].shape):\n",
    "\t\t\tbracket_sum += cst_sig[i][index] * process_sig[i][index]\n",
    "\treturn bracket_sum"
   ]
  },
  {
   "cell_type": "code",
   "execution_count": 154,
   "id": "7599276d",
   "metadata": {},
   "outputs": [],
   "source": [
    "# Parameters\n",
    "n = 100\n",
    "x0 = 0.0\n",
    "t0, t1 = 0.0, 1.0\n",
    "kappa, theta, etha = 1.0, 0.25, 1.2\n",
    "times = np.arange(start=0, stop=n+1) / n\n",
    "\n",
    "# Generate a brownian noise and the corresponding ornstein process\n",
    "brownians = generate_brownian(0, 1, n, 1)\n",
    "ornsteins = generate_ornstein_uhlenbeck(0, 1, brownians, x0, kappa, etha, theta)\n",
    "\n",
    "# compute their signature\n",
    "brownian_sig = signature(np.array([times, brownians.flatten()]), 4)\n",
    "ornstein_process_sig = signature(np.array([times, ornsteins.flatten()]), 4)\n",
    "\n",
    "# compute the ornstein process using the signature volatility model\n",
    "true_uhlenbeck_sig = compute_orstein_uhlenbeck_signature(x0, kappa, etha, theta)\n",
    "true_uhlenbeck_process_sig = bracket_with_process(true_uhlenbeck_sig, brownian_sig)"
   ]
  }
 ],
 "metadata": {
  "kernelspec": {
   "display_name": "Python 3",
   "language": "python",
   "name": "python3"
  },
  "language_info": {
   "codemirror_mode": {
    "name": "ipython",
    "version": 3
   },
   "file_extension": ".py",
   "mimetype": "text/x-python",
   "name": "python",
   "nbconvert_exporter": "python",
   "pygments_lexer": "ipython3",
   "version": "3.10.18"
  }
 },
 "nbformat": 4,
 "nbformat_minor": 5
}
