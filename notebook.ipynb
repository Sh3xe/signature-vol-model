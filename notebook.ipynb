{
 "cells": [
  {
   "cell_type": "code",
   "execution_count": 2,
   "id": "445b5e73",
   "metadata": {},
   "outputs": [],
   "source": [
    "import numpy as np"
   ]
  },
  {
   "cell_type": "code",
   "execution_count": 56,
   "id": "72b6516b",
   "metadata": {},
   "outputs": [],
   "source": [
    "def make_canonical_element(indices: list[int], n: int) -> np.array:\n",
    "\t\"\"\" \n",
    "\t\tConstruct the element of the canonical basis for a tensor of order len(indices), in dimension n. \n",
    "\t\tindices are the indices of the canonical element\n",
    "\t\"\"\"\n",
    "\tx = np.zeros([n for _ in range(len(indices))])\n",
    "\tx[tuple(indices)] =1\n",
    "\treturn x"
   ]
  },
  {
   "cell_type": "code",
   "execution_count": 57,
   "id": "ab9df12a",
   "metadata": {},
   "outputs": [],
   "source": [
    "def shuffle_product(left: list[int], right: list[int], n: int) -> list[np.array]:\n",
    "\t\"\"\"\n",
    "\t\tPerform the shuffle product between two signature basis\n",
    "\n",
    "\t\tleft, right: \"word\", i.e. any element of the canonical basis of any tensor of any order, with dimension equal to n.\n",
    "\t\tn: dimension of the tensors\n",
    "\t\"\"\"\n",
    "\t\n",
    "\tif len(left) == 0:\n",
    "\t\treturn make_canonical_element(right, n)\n",
    "\telif len(right) == 0:\n",
    "\t\treturn make_canonical_element(left, n)\n",
    "\t\n",
    "\t(begin_left, last_left) = left[:-1], left[-1]\n",
    "\t(begin_right, last_right) = right[:-1], right[-1]\n",
    "\n",
    "\tsub_left = shuffle_product(begin_left, right, n)\n",
    "\tsub_right = shuffle_product(left, begin_right, n)\n",
    "\n",
    "\treturn (\n",
    "\t\tnp.tensordot(sub_left, make_canonical_element([last_left], n), axes=0) +\n",
    "\t\tnp.tensordot(sub_right, make_canonical_element([last_right], n), axes=0)\n",
    "\t)"
   ]
  },
  {
   "cell_type": "code",
   "execution_count": 65,
   "id": "51d84ed9",
   "metadata": {},
   "outputs": [],
   "source": [
    "def decompose_shuffle_result(shuffle_result: np.array) -> list[tuple[int]]:\n",
    "\t\"\"\"\n",
    "\t\tGiven the result of some shuffle product, return the indices of the individual basis element that composes it\n",
    "\t\"\"\"\n",
    "\treturn list(filter(\n",
    "\t\tlambda x: abs(shuffle_result[x] - 1) < 1e-6,\n",
    "\t\tnp.ndindex(shuffle_result.shape)\n",
    "\t))"
   ]
  },
  {
   "cell_type": "code",
   "execution_count": 66,
   "id": "8eb51a3b",
   "metadata": {},
   "outputs": [
    {
     "data": {
      "text/plain": [
       "[(0, 1, 2, 3),\n",
       " (0, 2, 1, 3),\n",
       " (0, 2, 3, 1),\n",
       " (2, 0, 1, 3),\n",
       " (2, 0, 3, 1),\n",
       " (2, 3, 0, 1)]"
      ]
     },
     "execution_count": 66,
     "metadata": {},
     "output_type": "execute_result"
    }
   ],
   "source": [
    "shuffle_result = shuffle_product([0,1], [2,3], 4)\n",
    "decompose_shuffle_result(shuffle_result)"
   ]
  }
 ],
 "metadata": {
  "kernelspec": {
   "display_name": "Python 3",
   "language": "python",
   "name": "python3"
  },
  "language_info": {
   "codemirror_mode": {
    "name": "ipython",
    "version": 3
   },
   "file_extension": ".py",
   "mimetype": "text/x-python",
   "name": "python",
   "nbconvert_exporter": "python",
   "pygments_lexer": "ipython3",
   "version": "3.10.18"
  }
 },
 "nbformat": 4,
 "nbformat_minor": 5
}
